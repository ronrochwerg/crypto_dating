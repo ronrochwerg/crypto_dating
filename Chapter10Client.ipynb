{
 "cells": [
  {
   "cell_type": "markdown",
   "id": "9e81f0d0",
   "metadata": {},
   "source": [
    "# Chapter 10 - Private Entity Resolution"
   ]
  },
  {
   "cell_type": "code",
   "execution_count": null,
   "id": "e0fee4d3",
   "metadata": {},
   "outputs": [],
   "source": []
  },
  {
   "cell_type": "code",
   "execution_count": 35,
   "id": "799a83e2",
   "metadata": {},
   "outputs": [],
   "source": [
    "import requests\n",
    "import private_set_intersection.python as psi\n",
    "from pandas import read_csv"
   ]
  },
  {
   "cell_type": "code",
   "execution_count": 36,
   "id": "cd0d4f79",
   "metadata": {},
   "outputs": [],
   "source": [
    "url=\"http://localhost:5000/\""
   ]
  },
  {
   "cell_type": "markdown",
   "id": "46633388",
   "metadata": {},
   "source": [
    "## Client Setup"
   ]
  },
  {
   "cell_type": "code",
   "execution_count": null,
   "id": "9ddc689f",
   "metadata": {},
   "outputs": [],
   "source": [
    "df_m = read_csv('mari_clean.csv')\n",
    "client_items = (df_m['CompanyName']+' '+df_m['Postcode']).to_list()\n",
    "\n",
    "c = psi.client.CreateWithNewKey(True)\n",
    "psirequest = c.CreateRequest(client_items).SerializeToString()\n",
    "c.CreateRequest(client_items)"
   ]
  },
  {
   "cell_type": "markdown",
   "id": "779f1690",
   "metadata": {},
   "source": [
    "### Get Server-encrypted Client Values"
   ]
  },
  {
   "cell_type": "code",
   "execution_count": null,
   "id": "b0c303ef",
   "metadata": {},
   "outputs": [],
   "source": [
    "response = requests.post(url+'match', headers={'Content-Type': 'application/protobuf'}, data=psirequest)\n",
    "psiresponse = psi.Response()\n",
    "psiresponse.ParseFromString(response.content)\n",
    "psiresponse"
   ]
  },
  {
   "cell_type": "markdown",
   "id": "563080c9",
   "metadata": {},
   "source": [
    "### Get Server Setup - Raw"
   ]
  },
  {
   "cell_type": "code",
   "execution_count": 39,
   "id": "9268b455",
   "metadata": {},
   "outputs": [
    {
     "data": {
      "text/plain": [
       "raw {\n",
       "  encrypted_elements: \"\\003\\001v\\262\\314I~\\252\\2021.53}\\236\\232\\351+\\267\\323\\220\\006\\362\\005~,~\\266u\\303\\333\\315$\"\n",
       "  encrypted_elements: \"\\003\\266\\000\\301ov\\007\\345Ao?\\0331x\\022$\\2115e\\322.F\\237N\\007\\353\\200\\037\\016\\302\\235vg\"\n",
       "  encrypted_elements: \"\\003\\331\\316\\347\\240\\314r\\250\\210\\270B7\\244D\\023k*\\025O\\274p\\374\\325\\2428\\3555-\\212\\306\\244D\\373\"\n",
       "}"
      ]
     },
     "execution_count": 39,
     "metadata": {},
     "output_type": "execute_result"
    }
   ],
   "source": [
    "setupresponse = requests.get(url+'rawsetup')\n",
    "rawsetup = psi.ServerSetup()\n",
    "rawsetup.ParseFromString(setupresponse.content)\n",
    "rawsetup"
   ]
  },
  {
   "cell_type": "markdown",
   "id": "5a6a8a32",
   "metadata": {},
   "source": [
    "## Bloom Decode"
   ]
  },
  {
   "cell_type": "code",
   "execution_count": 40,
   "id": "f6b0ee55",
   "metadata": {},
   "outputs": [
    {
     "data": {
      "text/plain": [
       "bloom_filter {\n",
       "  num_hash_functions: 14\n",
       "  bits: \"\\020\\000\\000\\000\\000\\000\\000\\000\\000\\010\\000\\000\\000\\000\\000\\000\\000\\000\\000\\000\\000\\000\\000\\010\\000\\000\\000\\000\\000\\000\\000\\000\\000\\000\\000\\000\\000\\000\\000\\000\\000\\000\\000\\000\\000\\000\\200\\000\\000\\000\\000\\000\\000\\000\\001\\000\\000\\000\\000\\000\\000\\000\\000\\000\\000\\000\\000\\000\\000\\000\\000\\000\\000\\000\\000\\000\\000\\020\\000\\000\\000\\000\\000\\000\\000\\000\\000\\000\\000\\000\\000\\000\\000\\000\\000\\000\\000\\000\\000\\000\\000\\001\\000\\000\\000\\000\\000\\000\\002\\000\\000\\000\\000\\000\\000\\000\\000\\000\\000\\000\\000\\000\\000\\000\\020\\000\\000\\000\\000\\000@ \\000\\000\\001\\000\\000\\001\\000\\000\\000\\000\\200\\004\\000\\000\\000\\000\\000\\020\\000@\\000\\000\\000B\\000\\000\\000\\000 \\000\\001\\000\\000\\000\\000\\000\\004\\020\\000\\000\\000\\000\\020\\000\\000\\000(\\000@\\000\\000\\000\\000@\\000\\005\\000\\000\\000\\000\\000\\004\\000\\000\\002\\000\\000\\020\\000\\000\\000\\000\\000A\\000\\000\\000\\004\\000\\000\\001\\200\\000\\000\\000\\000\\000\\000\\000\\000@\\000\\000\\000\\000\\000\\000\\000\\000 @\\000\\000\\000\\000\\000\\000\\200\"\n",
       "}"
      ]
     },
     "execution_count": 40,
     "metadata": {},
     "output_type": "execute_result"
    }
   ],
   "source": [
    "setupresponse = requests.get(url+'bloomsetup')\n",
    "bloomsetup = psi.ServerSetup()\n",
    "bloomsetup.ParseFromString(setupresponse.content)\n",
    "bloomsetup"
   ]
  },
  {
   "cell_type": "markdown",
   "id": "1661a146",
   "metadata": {},
   "source": [
    "### Server Calculation"
   ]
  },
  {
   "cell_type": "code",
   "execution_count": 41,
   "id": "34700d41",
   "metadata": {},
   "outputs": [
    {
     "data": {
      "text/plain": [
       "1920"
      ]
     },
     "execution_count": 41,
     "metadata": {},
     "output_type": "execute_result"
    }
   ],
   "source": [
    "from math import ceil, log, log2\n",
    "\n",
    "fpr = 0.01\n",
    "num_client_inputs = 100\n",
    "correctedfpr = fpr/num_client_inputs\n",
    "len_server_items = 2\n",
    "max_elements = max(num_client_inputs, len_server_items)\n",
    "num_bits = (ceil(-max_elements * log2(correctedfpr) / log(2) /8 )) * 8\n",
    "num_bits"
   ]
  },
  {
   "cell_type": "code",
   "execution_count": 42,
   "id": "fc0e9ebb",
   "metadata": {},
   "outputs": [],
   "source": [
    "from hashlib import sha256\n",
    "\n",
    "#num_bits = len(bloomsetup.bloom_filter.bits)*8\n",
    "filterlist = ['0'] * num_bits\n",
    "\n",
    "for element in rawsetup.raw.encrypted_elements:\n",
    "    element1 = str.encode('1') + element\n",
    "    k = sha256(element1).hexdigest()\n",
    "    h1 = int(k,16) % num_bits\n",
    "\n",
    "    element2 = str.encode('2') + element\n",
    "    k = sha256(element2).hexdigest()\n",
    "    h2 = int(k,16) % num_bits\n",
    "    \n",
    "    for i in range(bloomsetup.bloom_filter.num_hash_functions):\n",
    "        pos = ((h1 + i * h2) % num_bits)\n",
    "        filterlist[num_bits-1-pos]='1'\n",
    "        \n",
    "filterstring = ''.join(filterlist)"
   ]
  },
  {
   "cell_type": "code",
   "execution_count": 43,
   "id": "93231a78",
   "metadata": {},
   "outputs": [
    {
     "data": {
      "text/plain": [
       "True"
      ]
     },
     "execution_count": 43,
     "metadata": {},
     "output_type": "execute_result"
    }
   ],
   "source": [
    "bloombits = ''.join(format(byte, '08b') for byte in reversed(bloomsetup.bloom_filter.bits))\n",
    "bloombits == filterstring"
   ]
  },
  {
   "cell_type": "code",
   "execution_count": 44,
   "id": "3f92ad0a",
   "metadata": {},
   "outputs": [
    {
     "data": {
      "text/plain": [
       "14"
      ]
     },
     "execution_count": 44,
     "metadata": {},
     "output_type": "execute_result"
    }
   ],
   "source": [
    "num_hash_functions = ceil(-log2(correctedfpr))\n",
    "num_hash_functions"
   ]
  },
  {
   "cell_type": "markdown",
   "id": "ae998a07",
   "metadata": {},
   "source": [
    "## GCS Decode"
   ]
  },
  {
   "cell_type": "code",
   "execution_count": 45,
   "id": "74fc9d19",
   "metadata": {},
   "outputs": [
    {
     "data": {
      "text/plain": [
       "gcs {\n",
       "  div: 18\n",
       "  hash_range: 1000000\n",
       "  bits: \"C\\022sW0\\216;\\000\"\n",
       "}"
      ]
     },
     "execution_count": 45,
     "metadata": {},
     "output_type": "execute_result"
    }
   ],
   "source": [
    "setupresponse = requests.get(url+'gcssetup')\n",
    "gcssetup = psi.ServerSetup()\n",
    "gcssetup.ParseFromString(setupresponse.content)\n",
    "gcssetup"
   ]
  },
  {
   "cell_type": "code",
   "execution_count": 46,
   "id": "fed9e5ac",
   "metadata": {},
   "outputs": [
    {
     "data": {
      "text/plain": [
       "1000000.0"
      ]
     },
     "execution_count": 46,
     "metadata": {},
     "output_type": "execute_result"
    }
   ],
   "source": [
    "from math import ceil, log, log2\n",
    "\n",
    "fpr = 0.01\n",
    "num_client_inputs = 100\n",
    "correctedfpr = fpr/num_client_inputs\n",
    "\n",
    "hash_range = max_elements/correctedfpr\n",
    "hash_range"
   ]
  },
  {
   "cell_type": "code",
   "execution_count": 47,
   "id": "fa93d0bf",
   "metadata": {},
   "outputs": [],
   "source": [
    "from hashlib import sha256\n",
    "\n",
    "# For all server encrypted elements, calculate hash and then bucket value\n",
    "ulist = []\n",
    "for element in rawsetup.raw.encrypted_elements:\n",
    "    k = sha256(element).hexdigest()\n",
    "    ks = int(k,16) % gcssetup.gcs.hash_range\n",
    "    ulist.append(ks)\n",
    "\n",
    "# Sort the hash bucket values\n",
    "ulist.sort()\n",
    "# Calculate deltas between sorted hash bucket values \n",
    "udiff = [ulist[0]] + [ulist[n]-ulist[n-1] for n in range(1,len(ulist))]"
   ]
  },
  {
   "cell_type": "code",
   "execution_count": 48,
   "id": "cecf3e44",
   "metadata": {},
   "outputs": [
    {
     "data": {
      "text/plain": [
       "18"
      ]
     },
     "execution_count": 48,
     "metadata": {},
     "output_type": "execute_result"
    }
   ],
   "source": [
    "avg = (ulist[-1]+1)/len(ulist)\n",
    "prob = 1/avg\n",
    "gcsdiv = max(0,round(-log2(-log2(1.0-prob))))\n",
    "gcsdiv"
   ]
  },
  {
   "cell_type": "code",
   "execution_count": 49,
   "id": "8c227b09",
   "metadata": {},
   "outputs": [],
   "source": [
    "# For all delta hash bucket values encode as unary portion for quotient followed by binary for remainder.\n",
    "# Pad with leading zeros so binary portion is of consistent length.\n",
    "# Concatenate with previous values\n",
    "\n",
    "encoded = ''\n",
    "for diff in udiff:\n",
    "    if diff != 0:\n",
    "        quot = int(diff / pow(2,gcssetup.gcs.div)) \n",
    "        rem = diff % pow(2,gcssetup.gcs.div)\n",
    "        next = '{0:b}'.format(rem) + '1' + ('0' * quot)\n",
    "        pad = next.zfill(quot+gcssetup.gcs.div+1)\n",
    "        encoded = pad + encoded"
   ]
  },
  {
   "cell_type": "code",
   "execution_count": 50,
   "id": "abda53bc",
   "metadata": {},
   "outputs": [],
   "source": [
    "# Pad final encoded string with leading 0s to length as a multiple of 8 \n",
    "\n",
    "from math import ceil\n",
    "\n",
    "padlength = ceil(len(encoded)/8)*8\n",
    "padded = encoded.zfill(padlength)"
   ]
  },
  {
   "cell_type": "code",
   "execution_count": 51,
   "id": "689fd90b",
   "metadata": {},
   "outputs": [
    {
     "data": {
      "text/plain": [
       "True"
      ]
     },
     "execution_count": 51,
     "metadata": {},
     "output_type": "execute_result"
    }
   ],
   "source": [
    "# Build gcs as concatenated sequence of bits from reversed gcs.bits value returned from setup\n",
    "# Check server gcs bits match our gcs bits \n",
    "\n",
    "gcsbits = ''.join(format(byte, '08b') for byte in reversed(gcssetup.gcs.bits))\n",
    "gcsbits == padded"
   ]
  },
  {
   "cell_type": "markdown",
   "id": "f086f6ea",
   "metadata": {},
   "source": [
    "### Calculate Set Intersection"
   ]
  },
  {
   "cell_type": "code",
   "execution_count": 52,
   "id": "1c4cbac1",
   "metadata": {},
   "outputs": [
    {
     "data": {
      "text/plain": [
       "[1, 2]"
      ]
     },
     "execution_count": 52,
     "metadata": {},
     "output_type": "execute_result"
    }
   ],
   "source": [
    "intersection = c.GetIntersection(gcssetup, psiresponse)\n",
    "#intersection = c.GetIntersection(bloomsetup, psiresponse)\n",
    "#intersection = c.GetIntersection(rawsetup, psiresponse)\n",
    "\n",
    "iset = set(intersection)\n",
    "sorted(intersection)"
   ]
  },
  {
   "cell_type": "code",
   "execution_count": 54,
   "id": "d93f9d8f",
   "metadata": {},
   "outputs": [
    {
     "name": "stdout",
     "output_type": "stream",
     "text": [
      "ABLY RESOURCES G2 1PB\n",
      "ADVANCE GLOBAL RECRUITMENT EH7 4HG\n"
     ]
    }
   ],
   "source": [
    "for index in sorted(intersection):\n",
    "    print(client_items[index])"
   ]
  },
  {
   "cell_type": "code",
   "execution_count": null,
   "id": "a39e921f",
   "metadata": {},
   "outputs": [],
   "source": []
  }
 ],
 "metadata": {
  "kernelspec": {
   "display_name": "wsl_env",
   "language": "python",
   "name": "python3"
  },
  "language_info": {
   "codemirror_mode": {
    "name": "ipython",
    "version": 3
   },
   "file_extension": ".py",
   "mimetype": "text/x-python",
   "name": "python",
   "nbconvert_exporter": "python",
   "pygments_lexer": "ipython3",
   "version": "3.8.10"
  }
 },
 "nbformat": 4,
 "nbformat_minor": 5
}
